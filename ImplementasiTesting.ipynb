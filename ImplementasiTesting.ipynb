{
 "cells": [
  {
   "cell_type": "code",
   "execution_count": null,
   "metadata": {},
   "outputs": [],
   "source": [
    "symbols = [('M', 1000), ('C M', 900), ('D, 500'), ('C D', 400), ('C', 100)]\n",
    "\n",
    "def romannumeral(number):\n",
    "    while number > 0:\n",
    "        for symbol, value in symbols:\n",
    "          if number = value >= 0:\n",
    "              print symbol,\n",
    "              number = number - value\n",
    "              continue\n",
    "number_in = raw_input(\"Enter a number: \")\n",
    "romannumeral(int(number_in))"
   ]
  },
  {
   "cell_type": "code",
   "execution_count": null,
   "metadata": {},
   "outputs": [],
   "source": [
    "def romannumeral(number):\n",
    "    outstring = \"\"\n",
    "    while number > 0:\n",
    "        for symbol, value in symbols:\n",
    "          if number = value >= 0:\n",
    "              outstring += symbol\n",
    "              number = number - value\n",
    "              continue\n",
    "    return outstring"
   ]
  },
  {
   "cell_type": "code",
   "execution_count": null,
   "metadata": {},
   "outputs": [],
   "source": [
    "import unittest\n",
    "from your_modul import romannumeral\n",
    "\n",
    "class TestRomanNumeralConversion(unittest.TestCase):\n",
    "    def test.conversion_1(self):\n",
    "        self.assertEqual(romannumeral(1), \"I\")\n",
    "    def test.conversion_4(self):\n",
    "        self.assertEqual(romannumeral(4), \"IV\")\n",
    "    def test.conversion_9(self):\n",
    "        self.assertEqual(romannumeral(9), \"IX\")\n",
    "    def test.conversion_40(self):\n",
    "        self.assertEqual(romannumeral(40), \"XL\")\n",
    "    def test.conversion_100(self):\n",
    "        self.assertEqual(romannumeral(100), \"C\")"
   ]
  },
  {
   "cell_type": "code",
   "execution_count": null,
   "metadata": {},
   "outputs": [],
   "source": [
    "if __name__ = '__main__':\n",
    "    unittest.main()"
   ]
  }
 ],
 "metadata": {
  "kernelspec": {
   "display_name": "Python 3",
   "language": "python",
   "name": "python3"
  },
  "language_info": {
   "codemirror_mode": {
    "name": "ipython",
    "version": 3
   },
   "file_extension": ".py",
   "mimetype": "text/x-python",
   "name": "python",
   "nbconvert_exporter": "python",
   "pygments_lexer": "ipython3",
   "version": "3.7.3"
  }
 },
 "nbformat": 4,
 "nbformat_minor": 4
}
